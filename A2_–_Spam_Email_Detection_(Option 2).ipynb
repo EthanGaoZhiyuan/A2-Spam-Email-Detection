{
  "nbformat": 4,
  "nbformat_minor": 0,
  "metadata": {
    "colab": {
      "provenance": [],
      "toc_visible": true,
      "authorship_tag": "ABX9TyOmA7vxhGmJpCeOzWOEh+MJ",
      "include_colab_link": true
    },
    "kernelspec": {
      "name": "python3",
      "display_name": "Python 3"
    },
    "language_info": {
      "name": "python"
    }
  },
  "cells": [
    {
      "cell_type": "markdown",
      "metadata": {
        "id": "view-in-github",
        "colab_type": "text"
      },
      "source": [
        "<a href=\"https://colab.research.google.com/github/EthanGaoZhiyuan/A2-Spam-Email-Detection/blob/main/A2_%E2%80%93_Spam_Email_Detection_(Option%E2%80%AF2).ipynb\" target=\"_parent\"><img src=\"https://colab.research.google.com/assets/colab-badge.svg\" alt=\"Open In Colab\"/></a>"
      ]
    },
    {
      "cell_type": "markdown",
      "source": [
        "**Task**: Binary classification—predict whether an email is spam.<br/>\n",
        "**Training Input**: text: str (typical length 20–2,000 chars, max 5,000; may contain URLs, HTML, emoji, typos; most but not all inputs fit this).<br/>\n",
        "**Training Label**: y ∈ {0=ham, 1=spam}.<br/>\n",
        "**Deployment Output**: p_spam ∈ [0,1] (model confidence; if the model outputs logit z, then p=1/(1+e^-z)).<br/>\n",
        "**Failure policy**: if cleaned text is empty, return p_spam=0 and log a warning."
      ],
      "metadata": {
        "id": "7biPk2Z1Q_Bm"
      }
    },
    {
      "cell_type": "markdown",
      "source": [
        "## Import dependencies"
      ],
      "metadata": {
        "id": "Mv0ITcObV5zM"
      }
    },
    {
      "cell_type": "code",
      "execution_count": 1,
      "metadata": {
        "id": "PDLLUUpSQrso"
      },
      "outputs": [],
      "source": [
        "!pip -q install scikit-learn imbalanced-learn\n",
        "import random, numpy as np\n",
        "SEED = 42\n",
        "random.seed(SEED); np.random.seed(SEED)"
      ]
    },
    {
      "cell_type": "markdown",
      "source": [
        "## Load & clean"
      ],
      "metadata": {
        "id": "09C2sz6pV7fD"
      }
    },
    {
      "cell_type": "code",
      "source": [
        "import pandas as pd\n",
        "\n",
        "df = pd.read_csv(\"https://raw.githubusercontent.com/EthanGaoZhiyuan/A2-Spam-Email-Detection/main/spam.csv\")\n",
        "df = df.rename(columns={df.columns[0]:\"Category\", df.columns[1]:\"Message\"})\n",
        "df = df.dropna(subset=[\"Message\"]).drop_duplicates(subset=[\"Message\"]).reset_index(drop=True)\n",
        "df[\"y\"] = (df[\"Category\"].str.lower().str.strip()==\"spam\").astype(int)\n",
        "X = df[\"Message\"].astype(str); y = df[\"y\"].values"
      ],
      "metadata": {
        "id": "Cx-aEOClRjcc"
      },
      "execution_count": 2,
      "outputs": []
    },
    {
      "cell_type": "markdown",
      "source": [
        "## Split"
      ],
      "metadata": {
        "id": "RCLMC6voV91Y"
      }
    },
    {
      "cell_type": "code",
      "source": [
        "from sklearn.model_selection import train_test_split\n",
        "X_tr, X_tmp, y_tr, y_tmp = train_test_split(X, y, test_size=0.30, stratify=y, random_state=SEED)\n",
        "X_va, X_te, y_va, y_te = train_test_split(X_tmp, y_tmp, test_size=2/3, stratify=y_tmp, random_state=SEED)"
      ],
      "metadata": {
        "id": "hdCgAn2OV1Cs"
      },
      "execution_count": 3,
      "outputs": []
    },
    {
      "cell_type": "markdown",
      "source": [
        "## Pipeline & baseline"
      ],
      "metadata": {
        "id": "t5hn_gsjWBZP"
      }
    },
    {
      "cell_type": "code",
      "source": [
        "from sklearn.pipeline import Pipeline\n",
        "from sklearn.feature_extraction.text import TfidfVectorizer\n",
        "from sklearn.linear_model import LogisticRegression\n",
        "\n",
        "pipe = Pipeline([\n",
        "    (\"tfidf\", TfidfVectorizer(ngram_range=(1,2), min_df=2, max_df=0.95)),\n",
        "    (\"clf\", LogisticRegression(max_iter=1000, class_weight=\"balanced\"))\n",
        "]).fit(X_tr, y_tr)"
      ],
      "metadata": {
        "id": "eA6jgjm5V2fE"
      },
      "execution_count": 4,
      "outputs": []
    },
    {
      "cell_type": "markdown",
      "source": [
        "## Threshold search on validation (optimize spam‑class F1)"
      ],
      "metadata": {
        "id": "rWXf5vMyWEgS"
      }
    },
    {
      "cell_type": "code",
      "source": [
        "import numpy as np\n",
        "from sklearn.metrics import precision_recall_curve, average_precision_score, f1_score, classification_report, confusion_matrix\n",
        "\n",
        "def scores(m, X):\n",
        "    return m.decision_function(X) if hasattr(m, \"decision_function\") else m.predict_proba(X)[:,1]\n",
        "\n",
        "s_val = scores(pipe, X_va)\n",
        "prec, rec, thr = precision_recall_curve(y_va, s_val)\n",
        "f1 = 2*prec*rec/(prec+rec+1e-12)\n",
        "best = np.nanargmax(f1); t_best = thr[best]\n",
        "print(f\"Val: AUPRC={average_precision_score(y_va, s_val):.3f} | best F1={f1[best]:.3f} at t={t_best:.3f}\")"
      ],
      "metadata": {
        "id": "sHL0GcxIWFJ3",
        "outputId": "39c9968d-431c-4608-fce6-7a0aa10ce4b2",
        "colab": {
          "base_uri": "https://localhost:8080/"
        }
      },
      "execution_count": 5,
      "outputs": [
        {
          "output_type": "stream",
          "name": "stdout",
          "text": [
            "Val: AUPRC=0.941 | best F1=0.905 at t=0.085\n"
          ]
        }
      ]
    },
    {
      "cell_type": "markdown",
      "source": [
        "## Test once at locked threshold & confusion matrix"
      ],
      "metadata": {
        "id": "6N617YZZWKVN"
      }
    },
    {
      "cell_type": "code",
      "source": [
        "s_te = scores(pipe, X_te)\n",
        "y_hat = (s_te >= t_best).astype(int)\n",
        "print(classification_report(y_te, y_hat, digits=4))\n",
        "print(\"Confusion matrix:\\n\", confusion_matrix(y_te, y_hat))"
      ],
      "metadata": {
        "id": "h2XbpJMDWGTb",
        "outputId": "3bde253f-0d54-4f0d-e411-4e6e6c5d2657",
        "colab": {
          "base_uri": "https://localhost:8080/"
        }
      },
      "execution_count": 6,
      "outputs": [
        {
          "output_type": "stream",
          "name": "stdout",
          "text": [
            "              precision    recall  f1-score   support\n",
            "\n",
            "           0     0.9878    0.9856    0.9867       904\n",
            "           1     0.9000    0.9141    0.9070       128\n",
            "\n",
            "    accuracy                         0.9767      1032\n",
            "   macro avg     0.9439    0.9498    0.9468      1032\n",
            "weighted avg     0.9769    0.9767    0.9768      1032\n",
            "\n",
            "Confusion matrix:\n",
            " [[891  13]\n",
            " [ 11 117]]\n"
          ]
        }
      ]
    },
    {
      "cell_type": "markdown",
      "source": [
        "## 5‑fold CV for mean ± std"
      ],
      "metadata": {
        "id": "ubj_pxelWOLH"
      }
    },
    {
      "cell_type": "code",
      "source": [
        "from sklearn.model_selection import StratifiedKFold\n",
        "skf = StratifiedKFold(5, shuffle=True, random_state=SEED)\n",
        "f1s, aprs = [], []\n",
        "for tr, va in skf.split(X, y):\n",
        "    pipe.fit(X.iloc[tr], y[tr])\n",
        "    s = scores(pipe, X.iloc[va])\n",
        "    f1s.append(f1_score(y[va], (s>=0.5).astype(int)))\n",
        "    aprs.append(average_precision_score(y[va], s))\n",
        "print(f\"CV F1={np.mean(f1s):.3f}±{np.std(f1s):.3f} | CV AUPRC={np.mean(aprs):.3f}±{np.std(aprs):.3f}\")"
      ],
      "metadata": {
        "id": "lV7OAOndWMGT",
        "outputId": "22b84392-7215-4914-d290-73e3f05d4d74",
        "colab": {
          "base_uri": "https://localhost:8080/"
        }
      },
      "execution_count": 7,
      "outputs": [
        {
          "output_type": "stream",
          "name": "stdout",
          "text": [
            "CV F1=0.931±0.013 | CV AUPRC=0.973±0.011\n"
          ]
        }
      ]
    },
    {
      "cell_type": "markdown",
      "source": [
        "## Deployment‑style API"
      ],
      "metadata": {
        "id": "T2bx43UQWRhA"
      }
    },
    {
      "cell_type": "code",
      "source": [
        "def predict_spam_proba(texts:list[str]) -> list[float]:\n",
        "    s = scores(pipe, texts)\n",
        "    # If using decision_function, optionally map to [0,1] via logistic\n",
        "    try: return pipe.predict_proba(texts)[:,1].tolist()\n",
        "    except:\n",
        "        import numpy as np\n",
        "        return (1/(1+np.exp(-s))).tolist()"
      ],
      "metadata": {
        "id": "BZSbbisVWP_U"
      },
      "execution_count": 8,
      "outputs": []
    }
  ]
}