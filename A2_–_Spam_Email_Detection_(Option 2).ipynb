{
  "nbformat": 4,
  "nbformat_minor": 0,
  "metadata": {
    "colab": {
      "provenance": [],
      "toc_visible": true,
      "authorship_tag": "ABX9TyP+YB67mEi0iskFMM7HMDR0",
      "include_colab_link": true
    },
    "kernelspec": {
      "name": "python3",
      "display_name": "Python 3"
    },
    "language_info": {
      "name": "python"
    }
  },
  "cells": [
    {
      "cell_type": "markdown",
      "metadata": {
        "id": "view-in-github",
        "colab_type": "text"
      },
      "source": [
        "<a href=\"https://colab.research.google.com/github/EthanGaoZhiyuan/A2-Spam-Email-Detection/blob/main/A2_%E2%80%93_Spam_Email_Detection_(Option%E2%80%AF2).ipynb\" target=\"_parent\"><img src=\"https://colab.research.google.com/assets/colab-badge.svg\" alt=\"Open In Colab\"/></a>"
      ]
    },
    {
      "cell_type": "markdown",
      "source": [
        "**Task**: Binary classification—predict whether an email is spam.<br/>\n",
        "**Training Input**: text: str (typical length 20–2,000 chars, max 5,000; may contain URLs, HTML, emoji, typos; most but not all inputs fit this).<br/>\n",
        "**Training Label**: y ∈ {0=ham, 1=spam}.<br/>\n",
        "**Deployment Output**: p_spam ∈ [0,1] (model confidence; if the model outputs logit z, then p=1/(1+e^-z)).<br/>\n",
        "**Failure policy**: if cleaned text is empty, return p_spam=0 and log a warning."
      ],
      "metadata": {
        "id": "7biPk2Z1Q_Bm"
      }
    },
    {
      "cell_type": "code",
      "execution_count": 1,
      "metadata": {
        "id": "PDLLUUpSQrso"
      },
      "outputs": [],
      "source": [
        "## Import dependencies\n",
        "!pip -q install scikit-learn imbalanced-learn\n",
        "import random, numpy as np\n",
        "SEED = 42\n",
        "random.seed(SEED); np.random.seed(SEED)"
      ]
    },
    {
      "cell_type": "code",
      "source": [
        "import pandas as pd\n",
        "\n",
        "df = pd.read_csv(\"spam.csv\")  # adapt path\n",
        "df = df.rename(columns={df.columns[0]:\"Category\", df.columns[1]:\"Message\"})  # adjust if needed\n",
        "df = df.dropna(subset=[\"Message\"]).drop_duplicates(subset=[\"Message\"]).reset_index(drop=True)\n",
        "df[\"y\"] = (df[\"Category\"].str.lower().str.strip()==\"spam\").astype(int)\n",
        "X = df[\"Message\"].astype(str); y = df[\"y\"].values"
      ],
      "metadata": {
        "id": "Cx-aEOClRjcc"
      },
      "execution_count": null,
      "outputs": []
    }
  ]
}