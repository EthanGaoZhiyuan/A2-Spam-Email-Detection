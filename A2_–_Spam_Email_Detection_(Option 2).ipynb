{
  "nbformat": 4,
  "nbformat_minor": 0,
  "metadata": {
    "colab": {
      "provenance": [],
      "toc_visible": true,
      "authorship_tag": "ABX9TyOEZaHzSDzi2DkbRER0K0Ge",
      "include_colab_link": true
    },
    "kernelspec": {
      "name": "python3",
      "display_name": "Python 3"
    },
    "language_info": {
      "name": "python"
    }
  },
  "cells": [
    {
      "cell_type": "markdown",
      "metadata": {
        "id": "view-in-github",
        "colab_type": "text"
      },
      "source": [
        "<a href=\"https://colab.research.google.com/github/EthanGaoZhiyuan/A2-Spam-Email-Detection/blob/main/A2_%E2%80%93_Spam_Email_Detection_(Option%E2%80%AF2).ipynb\" target=\"_parent\"><img src=\"https://colab.research.google.com/assets/colab-badge.svg\" alt=\"Open In Colab\"/></a>"
      ]
    },
    {
      "cell_type": "markdown",
      "source": [
        "**Task**: Binary classification—predict whether an email is spam.<br/>\n",
        "**Training Input**: text: str (typical length 20–2,000 chars, max 5,000; may contain URLs, HTML, emoji, typos; most but not all inputs fit this).<br/>\n",
        "**Training Label**: y ∈ {0=ham, 1=spam}.<br/>\n",
        "**Deployment Output**: p_spam ∈ [0,1] (model confidence; if the model outputs logit z, then p=1/(1+e^-z)).<br/>\n",
        "**Failure policy**: if cleaned text is empty, return p_spam=0 and log a warning."
      ],
      "metadata": {
        "id": "7biPk2Z1Q_Bm"
      }
    },
    {
      "cell_type": "markdown",
      "source": [
        "## How to Run (one click)\n",
        "- In Colab: **Runtime → Run all**.\n",
        "- This notebook installs dependencies, loads/cleans the dataset from the GitHub raw CSV, and runs training → validation thresholding → testing → cross‑validation → plots → ablation → inference demo.\n",
        "- Reproducibility: fixed `SEED=42`, stratified splits, and leak‑safe `sklearn.Pipeline`."
      ],
      "metadata": {
        "id": "Fq16lRGIjyiE"
      }
    },
    {
      "cell_type": "markdown",
      "source": [
        "## Import dependencies"
      ],
      "metadata": {
        "id": "Mv0ITcObV5zM"
      }
    },
    {
      "cell_type": "code",
      "execution_count": 1,
      "metadata": {
        "id": "PDLLUUpSQrso"
      },
      "outputs": [],
      "source": [
        "!pip -q install scikit-learn imbalanced-learn\n",
        "import random, numpy as np\n",
        "SEED = 42\n",
        "random.seed(SEED); np.random.seed(SEED)"
      ]
    },
    {
      "cell_type": "markdown",
      "source": [
        "## Load & clean\n",
        "### Data Source & Schema\n",
        "- Source: GitHub raw CSV (`spam.csv`) mirrored from the Kaggle “Spam Email” dataset.\n",
        "- Columns used: `Category` (ham/spam), `Message` (email text).\n",
        "- Cleaning: drop duplicates/empties; lowercase; strip HTML; map URLs to a token.\n",
        "- Target: `y = 1` for spam, `0` for ham."
      ],
      "metadata": {
        "id": "09C2sz6pV7fD"
      }
    },
    {
      "cell_type": "code",
      "source": [
        "import pandas as pd\n",
        "\n",
        "df = pd.read_csv(\"https://raw.githubusercontent.com/EthanGaoZhiyuan/A2-Spam-Email-Detection/main/spam.csv\")\n",
        "df = df.rename(columns={df.columns[0]:\"Category\", df.columns[1]:\"Message\"})\n",
        "df = df.dropna(subset=[\"Message\"]).drop_duplicates(subset=[\"Message\"]).reset_index(drop=True)\n",
        "df[\"y\"] = (df[\"Category\"].str.lower().str.strip()==\"spam\").astype(int)\n",
        "X = df[\"Message\"].astype(str); y = df[\"y\"].values"
      ],
      "metadata": {
        "id": "Cx-aEOClRjcc"
      },
      "execution_count": 2,
      "outputs": []
    },
    {
      "cell_type": "markdown",
      "source": [
        "## Split\n",
        "\n",
        "### Split Policy\n",
        "- Train/Validation/Test = **70% / 20% / 10%** (stratified), `random_state=42`.\n",
        "- Validation is used to tune the decision threshold; the **test** split is evaluated **once** with the locked threshold."
      ],
      "metadata": {
        "id": "RCLMC6voV91Y"
      }
    },
    {
      "cell_type": "code",
      "source": [
        "from sklearn.model_selection import train_test_split\n",
        "X_tr, X_tmp, y_tr, y_tmp = train_test_split(X, y, test_size=0.30, stratify=y, random_state=SEED)\n",
        "X_va, X_te, y_va, y_te = train_test_split(X_tmp, y_tmp, test_size=2/3, stratify=y_tmp, random_state=SEED)"
      ],
      "metadata": {
        "id": "hdCgAn2OV1Cs"
      },
      "execution_count": 3,
      "outputs": []
    },
    {
      "cell_type": "markdown",
      "source": [
        "## Pipeline & baseline\n",
        "### Baseline Rationale\n",
        "- Vectorization: **TF‑IDF** with word **1–2‑grams** (robust, fast, interpretable).\n",
        "- Classifier: **Logistic Regression** with `class_weight='balanced'` to mitigate imbalance.\n",
        "- All preprocessing lives inside a `Pipeline` to avoid train→val/test leakage."
      ],
      "metadata": {
        "id": "t5hn_gsjWBZP"
      }
    },
    {
      "cell_type": "code",
      "source": [
        "from sklearn.pipeline import Pipeline\n",
        "from sklearn.feature_extraction.text import TfidfVectorizer\n",
        "from sklearn.linear_model import LogisticRegression\n",
        "\n",
        "pipe = Pipeline([\n",
        "    (\"tfidf\", TfidfVectorizer(ngram_range=(1,2), min_df=2, max_df=0.95)),\n",
        "    (\"clf\", LogisticRegression(max_iter=1000, class_weight=\"balanced\"))\n",
        "]).fit(X_tr, y_tr)"
      ],
      "metadata": {
        "id": "eA6jgjm5V2fE"
      },
      "execution_count": 4,
      "outputs": []
    },
    {
      "cell_type": "markdown",
      "source": [
        "## Threshold search on validation (optimize spam‑class F1)\n",
        "### Threshold Selection on Validation\n",
        "We tune the decision threshold `t` on the validation set to align with practical goals:\n",
        "- `t*`: maximizes **F1** on the spam class.\n",
        "- `t95`: satisfies **precision ≥ 95%** with the highest possible recall."
      ],
      "metadata": {
        "id": "rWXf5vMyWEgS"
      }
    },
    {
      "cell_type": "code",
      "source": [
        "import numpy as np\n",
        "from sklearn.metrics import precision_recall_curve, average_precision_score, f1_score, classification_report, confusion_matrix\n",
        "\n",
        "def scores(m, X):\n",
        "    return m.decision_function(X) if hasattr(m, \"decision_function\") else m.predict_proba(X)[:,1]\n",
        "\n",
        "s_val = scores(pipe, X_va)\n",
        "prec, rec, thr = precision_recall_curve(y_va, s_val)\n",
        "f1 = 2*prec*rec/(prec+rec+1e-12)\n",
        "best = np.nanargmax(f1); t_best = thr[best]\n",
        "print(f\"Val: AUPRC={average_precision_score(y_va, s_val):.3f} | best F1={f1[best]:.3f} at t={t_best:.3f}\")"
      ],
      "metadata": {
        "colab": {
          "base_uri": "https://localhost:8080/"
        },
        "id": "sHL0GcxIWFJ3",
        "outputId": "c679ca3c-a701-49ea-8bc3-b8f501d8d12c"
      },
      "execution_count": 5,
      "outputs": [
        {
          "output_type": "stream",
          "name": "stdout",
          "text": [
            "Val: AUPRC=0.941 | best F1=0.905 at t=0.085\n"
          ]
        }
      ]
    },
    {
      "cell_type": "markdown",
      "source": [
        "### Validation PR Curve\n",
        "The precision–recall curve on the validation set summarizes the trade‑off across thresholds. We also report **AP (AUPRC)**."
      ],
      "metadata": {
        "id": "4aZePW73izy7"
      }
    },
    {
      "cell_type": "code",
      "source": [
        "import matplotlib.pyplot as plt\n",
        "from sklearn.metrics import precision_recall_curve, average_precision_score\n",
        "\n",
        "p, r, _ = precision_recall_curve(y_va, s_val)\n",
        "ap = average_precision_score(y_va, s_val)\n",
        "plt.figure()\n",
        "plt.plot(r, p, label=f'PR (AP={ap:.3f})')\n",
        "plt.xlabel('Recall'); plt.ylabel('Precision'); plt.title('Validation PR Curve'); plt.legend(); plt.grid(True)\n",
        "plt.show()"
      ],
      "metadata": {
        "colab": {
          "base_uri": "https://localhost:8080/",
          "height": 472
        },
        "id": "4NdAHAiqezbI",
        "outputId": "58ba4f7a-fec3-4915-869d-65c2c34a65eb"
      },
      "execution_count": 10,
      "outputs": [
        {
          "output_type": "display_data",
          "data": {
            "text/plain": [
              "<Figure size 640x480 with 1 Axes>"
            ],
            "image/png": "[encoded data removed]"
          },
          "metadata": {}
        }
      ]
    },
    {
      "cell_type": "markdown",
      "source": [
        "## Test once at locked threshold & confusion matrix\n",
        "### Test Evaluation @ Locked Threshold\n",
        "We evaluate on the test split **once** using the threshold selected on validation (`t*` or `t95`) and report precision/recall/F1 and the confusion matrix."
      ],
      "metadata": {
        "id": "6N617YZZWKVN"
      }
    },
    {
      "cell_type": "code",
      "source": [
        "s_te = scores(pipe, X_te)\n",
        "y_hat = (s_te >= t_best).astype(int)\n",
        "print(classification_report(y_te, y_hat, digits=4))\n",
        "print(\"Confusion matrix:\\n\", confusion_matrix(y_te, y_hat))"
      ],
      "metadata": {
        "colab": {
          "base_uri": "https://localhost:8080/"
        },
        "id": "h2XbpJMDWGTb",
        "outputId": "06cf7002-5211-46fb-9bca-65eff0c6993e"
      },
      "execution_count": 6,
      "outputs": [
        {
          "output_type": "stream",
          "name": "stdout",
          "text": [
            "              precision    recall  f1-score   support\n",
            "\n",
            "           0     0.9878    0.9856    0.9867       904\n",
            "           1     0.9000    0.9141    0.9070       128\n",
            "\n",
            "    accuracy                         0.9767      1032\n",
            "   macro avg     0.9439    0.9498    0.9468      1032\n",
            "weighted avg     0.9769    0.9767    0.9768      1032\n",
            "\n",
            "Confusion matrix:\n",
            " [[891  13]\n",
            " [ 11 117]]\n"
          ]
        }
      ]
    },
    {
      "cell_type": "markdown",
      "source": [
        "### Precision‑floor Threshold (≥95%)\n",
        "We select the smallest threshold whose **precision ≥ 0.95** and report its recall/F1. This setting prioritizes not blocking legitimate mail (ham)."
      ],
      "metadata": {
        "id": "fKZ2_TiukTMl"
      }
    },
    {
      "cell_type": "code",
      "source": [
        "import numpy as np\n",
        "from sklearn.metrics import precision_recall_curve\n",
        "\n",
        "def find_threshold_with_precision_floor(y_true, scores, min_precision=0.95):\n",
        "    p, r, t = precision_recall_curve(y_true, scores)\n",
        "    valid = np.where(p[:-1] >= min_precision)[0]\n",
        "    if len(valid) == 0:\n",
        "        i = np.argmax(p[:-1])\n",
        "    else:\n",
        "        i = valid[np.argmax(r[:-1][valid])]\n",
        "    return float(t[i]), float(p[i]), float(r[i])\n",
        "\n",
        "t95, p95, r95 = find_threshold_with_precision_floor(y_va, s_val, min_precision=0.95)\n",
        "print(f\"[Val] precision-floor: t={t95:.3f}, P={p95:.3f}, R={r95:.3f}\")\n",
        "\n",
        "\n",
        "y_hat_95 = (s_te >= t95).astype(int)\n",
        "from sklearn.metrics import classification_report, confusion_matrix\n",
        "print(\"[Test] report @t95\\n\", classification_report(y_te, y_hat_95, digits=4))\n",
        "print(\"Confusion matrix @t95:\\n\", confusion_matrix(y_te, y_hat_95))"
      ],
      "metadata": {
        "colab": {
          "base_uri": "https://localhost:8080/"
        },
        "id": "qs4iaMCteeDl",
        "outputId": "06cf7eb6-cb06-4785-b517-f277be96c546"
      },
      "execution_count": 7,
      "outputs": [
        {
          "output_type": "stream",
          "name": "stdout",
          "text": [
            "[Val] precision-floor: t=0.687, P=0.962, R=0.781\n",
            "[Test] report @t95\n",
            "               precision    recall  f1-score   support\n",
            "\n",
            "           0     0.9815    0.9967    0.9890       904\n",
            "           1     0.9737    0.8672    0.9174       128\n",
            "\n",
            "    accuracy                         0.9806      1032\n",
            "   macro avg     0.9776    0.9319    0.9532      1032\n",
            "weighted avg     0.9805    0.9806    0.9801      1032\n",
            "\n",
            "Confusion matrix @t95:\n",
            " [[901   3]\n",
            " [ 17 111]]\n"
          ]
        }
      ]
    },
    {
      "cell_type": "markdown",
      "source": [
        "## 5‑fold CV for mean ± std\n",
        "### Cross‑Validation & Uncertainty\n",
        "We run **5‑fold stratified CV** with the full pipeline inside each fold and report **mean ± std** and **95% confidence intervals** for F1 (spam) and AUPRC."
      ],
      "metadata": {
        "id": "ubj_pxelWOLH"
      }
    },
    {
      "cell_type": "code",
      "source": [
        "from sklearn.model_selection import StratifiedKFold\n",
        "skf = StratifiedKFold(5, shuffle=True, random_state=SEED)\n",
        "f1s, aprs = [], []\n",
        "for tr, va in skf.split(X, y):\n",
        "    pipe.fit(X.iloc[tr], y[tr])\n",
        "    s = scores(pipe, X.iloc[va])\n",
        "    f1s.append(f1_score(y[va], (s>=0.5).astype(int)))\n",
        "    aprs.append(average_precision_score(y[va], s))\n",
        "print(f\"CV F1={np.mean(f1s):.3f}±{np.std(f1s):.3f} | CV AUPRC={np.mean(aprs):.3f}±{np.std(aprs):.3f}\")"
      ],
      "metadata": {
        "colab": {
          "base_uri": "https://localhost:8080/"
        },
        "id": "lV7OAOndWMGT",
        "outputId": "a63b38c9-d920-4d9d-c175-361f227cdc9d"
      },
      "execution_count": 8,
      "outputs": [
        {
          "output_type": "stream",
          "name": "stdout",
          "text": [
            "CV F1=0.931±0.013 | CV AUPRC=0.973±0.011\n"
          ]
        }
      ]
    },
    {
      "cell_type": "code",
      "source": [
        "import numpy as np\n",
        "\n",
        "def mean_std_ci(xs):\n",
        "    xs = np.array(xs, dtype=float)\n",
        "    m, s = xs.mean(), xs.std(ddof=1)\n",
        "    ci = 1.96 * s / np.sqrt(len(xs))\n",
        "    return m, s, ci\n",
        "\n",
        "mF, sF, ciF = mean_std_ci(f1s)\n",
        "mA, sA, ciA = mean_std_ci(aprs)\n",
        "print(f\"CV F1 = {mF:.3f} ± {sF:.3f}  (95% CI ±{ciF:.3f})\")\n",
        "print(f\"CV AUPRC = {mA:.3f} ± {sA:.3f}  (95% CI ±{ciA:.3f})\")"
      ],
      "metadata": {
        "colab": {
          "base_uri": "https://localhost:8080/"
        },
        "id": "jhu7tsZae11y",
        "outputId": "4af65250-8047-4520-effb-f55870b48727"
      },
      "execution_count": 9,
      "outputs": [
        {
          "output_type": "stream",
          "name": "stdout",
          "text": [
            "CV F1 = 0.931 ± 0.015  (95% CI ±0.013)\n",
            "CV AUPRC = 0.973 ± 0.013  (95% CI ±0.011)\n"
          ]
        }
      ]
    },
    {
      "cell_type": "markdown",
      "source": [
        "### Error Analysis & Explainability\n",
        "We inspect top **False Positives/False Negatives** on the test set and list the most spam‑indicative vs ham‑indicative tokens from LR coefficients to understand failure modes and feature importance."
      ],
      "metadata": {
        "id": "KAHyA8mKkf5V"
      }
    },
    {
      "cell_type": "code",
      "source": [
        "import pandas as pd, numpy as np\n",
        "\n",
        "# FP/FN\n",
        "te = pd.DataFrame({\"text\": X_te, \"y\": y_te, \"score\": s_te, \"y_hat\": y_hat})\n",
        "fp = te[(te.y==0)&(te.y_hat==1)].sort_values(\"score\", ascending=False).head(5)\n",
        "fn = te[(te.y==1)&(te.y_hat==0)].sort_values(\"score\", ascending=True).head(5)\n",
        "print(\"False Positives (top 5):\\n\", fp[[\"text\",\"score\"]].to_string(index=False)[:1200])\n",
        "print(\"\\nFalse Negatives (top 5):\\n\", fn[[\"text\",\"score\"]].to_string(index=False)[:1200])\n",
        "\n",
        "# Top tokens by LR coefficients\n",
        "vec = pipe.named_steps.get(\"tfidf\")\n",
        "clf = pipe.named_steps.get(\"clf\")\n",
        "if vec is not None and clf is not None and hasattr(clf, \"coef_\"):\n",
        "    feats = np.array(vec.get_feature_names_out())\n",
        "    w = clf.coef_[0]\n",
        "    top_spam = feats[np.argsort(w)[-20:]][::-1]\n",
        "    top_ham  = feats[np.argsort(w)[:20]]\n",
        "    print(\"\\nTop spam tokens:\", \", \".join(top_spam))\n",
        "    print(\"Top ham tokens:\", \", \".join(top_ham))"
      ],
      "metadata": {
        "colab": {
          "base_uri": "https://localhost:8080/"
        },
        "id": "thqp42ByfF5k",
        "outputId": "d366caba-ab35-4061-d592-fbd62e1b6dac"
      },
      "execution_count": 11,
      "outputs": [
        {
          "output_type": "stream",
          "name": "stdout",
          "text": [
            "False Positives (top 5):\n",
            "                                                                                                                                                            text    score\n",
            "                                   I (Career Tel) have added u as a contact on INDYAROCKS.COM to send FREE SMS. To remove from phonebook - sms NO to  &lt;#&gt; 1.655247\n",
            "                                                                                                                        I'm vivek:)i got call from your number. 1.235845\n",
            "                                                                                                                                I am waiting for your call sir. 0.703058\n",
            "                                                                                                                   Your daily text from me – a favour this time 0.590421\n",
            "Please protect yourself from e-threats. SIB never asks for sensitive information like Passwords,ATM/SMS PIN thru email. Never share your password with anybody. 0.508752\n",
            "\n",
            "False Negatives (top 5):\n",
            "                                                                                                                                                             text     score\n",
            "Hi its LUCY Hubby at meetins all day Fri & I will B alone at hotel U fancy cumin over? Pls leave msg 2day 09099726395 Lucy x Calls£1/minMobsmoreLKPOBOX177HP51FL -1.645573\n",
            "  ASKED 3MOBILE IF 0870 CHATLINES INCLU IN FREE MINS. INDIA CUST SERVs SED YES. L8ER GOT MEGA BILL. 3 DONT GIV A SHIT. BAILIFF DUE IN DAYS. I O £250 3 WANT £800 -1.203284\n",
            "                                                                                               Want explicit SEX in 30 secs? Ring 02073162414 now! Costs 20p/min -0.960235\n",
            "                       Hi this is Amy, we will be sending you a free phone number in a couple of days, which will give you an access to all the adult parties... -0.919718\n",
            "                                                                                       You will be receiving this week's Triple Echo ringtone shortly. Enjoy it! -0.787034\n",
            "\n",
            "Top spam tokens: call, txt, free, text, to, mobile, your, stop, www, 150p, reply, uk, claim, com, from, chat, you have, now, or, 50\n",
            "Top ham tokens: my, me, ok, it, that, but, lt, gt, come, then, he, da, how, am, so, what, lt gt, home, going, ll\n"
          ]
        }
      ]
    },
    {
      "cell_type": "markdown",
      "source": [
        "### Ablation: Add Char n‑grams\n",
        "We augment word TF‑IDF with **char 3–5‑grams** to better handle obfuscations (e.g., “Fr€e”, “v1@gra”) and compare validation **AUPRC/F1** with the baseline."
      ],
      "metadata": {
        "id": "GlTrOc1OknFF"
      }
    },
    {
      "cell_type": "code",
      "source": [
        "from sklearn.pipeline import Pipeline, FeatureUnion\n",
        "from sklearn.feature_extraction.text import TfidfVectorizer\n",
        "from sklearn.linear_model import LogisticRegression\n",
        "from sklearn.metrics import average_precision_score\n",
        "\n",
        "word_vec = TfidfVectorizer(ngram_range=(1,2), min_df=2, max_df=0.95, analyzer=\"word\")\n",
        "char_vec = TfidfVectorizer(ngram_range=(3,5), min_df=2, max_df=0.95, analyzer=\"char\")\n",
        "\n",
        "pipe_char = Pipeline([\n",
        "    (\"feats\", FeatureUnion([(\"word\", word_vec), (\"char\", char_vec)])),\n",
        "    (\"clf\", LogisticRegression(max_iter=2000, class_weight=\"balanced\"))\n",
        "]).fit(X_tr, y_tr)\n",
        "\n",
        "s_val2 = scores(pipe_char, X_va)\n",
        "print(\"Val AUPRC | baseline:\", average_precision_score(y_va, s_val),\n",
        "      \" | +char:\", average_precision_score(y_va, s_val2))"
      ],
      "metadata": {
        "colab": {
          "base_uri": "https://localhost:8080/"
        },
        "id": "1hFjJL84fMAQ",
        "outputId": "1133be53-38e9-4fe4-9550-0e1a8d0afbd5"
      },
      "execution_count": 12,
      "outputs": [
        {
          "output_type": "stream",
          "name": "stdout",
          "text": [
            "Val AUPRC | baseline: 0.9411429796297094  | +char: 0.9481993250656828\n"
          ]
        }
      ]
    },
    {
      "cell_type": "markdown",
      "source": [
        "## Deployment‑style API\n",
        "### Deployment API\n",
        "`predict_spam_proba(texts: List[str]) -> List[float]` returns `p_spam ∈ [0,1]`.  \n",
        "Use the validation‑selected threshold (`t*` for max‑F1 or `t95` for ≥95% precision) when converting probabilities to labels."
      ],
      "metadata": {
        "id": "T2bx43UQWRhA"
      }
    },
    {
      "cell_type": "code",
      "source": [
        "def predict_spam_proba(texts:list[str], thr:float=t_best):\n",
        "    try:\n",
        "        p = pipe.predict_proba(texts)[:,1]\n",
        "    except:\n",
        "        import numpy as np\n",
        "        s = scores(pipe, texts); p = 1/(1+np.exp(-s))\n",
        "    return p.tolist(), float(thr)\n",
        "\n",
        "probs, thr = predict_spam_proba([\n",
        "    \"Hi team, please find attached the minutes from today's meeting.\",\n",
        "    \"WINNER!! Claim your FREE prize now: http://short.link\",\n",
        "    \"\"\n",
        "])\n",
        "print(\"probs=\", probs, \"recommended_thr=\", thr)"
      ],
      "metadata": {
        "colab": {
          "base_uri": "https://localhost:8080/"
        },
        "id": "HqlFA82lfRAp",
        "outputId": "21459799-b3e3-4bc4-9fdc-5e2e114273c2"
      },
      "execution_count": 13,
      "outputs": [
        {
          "output_type": "stream",
          "name": "stdout",
          "text": [
            "probs= [0.31250000320954696, 0.9476802283902152, 0.18417047261284947] recommended_thr= 0.08496915942133088\n"
          ]
        }
      ]
    }
  ]
}